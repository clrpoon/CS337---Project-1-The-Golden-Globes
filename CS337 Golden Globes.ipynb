{
 "cells": [
  {
   "cell_type": "code",
   "execution_count": 54,
   "metadata": {},
   "outputs": [
    {
     "name": "stderr",
     "output_type": "stream",
     "text": [
      "[nltk_data] Downloading package punkt to\n",
      "[nltk_data]     /Users/jonathandai/nltk_data...\n",
      "[nltk_data]   Package punkt is already up-to-date!\n",
      "[nltk_data] Downloading package averaged_perceptron_tagger to\n",
      "[nltk_data]     /Users/jonathandai/nltk_data...\n",
      "[nltk_data]   Package averaged_perceptron_tagger is already up-to-\n",
      "[nltk_data]       date!\n",
      "[nltk_data] Downloading package maxent_ne_chunker to\n",
      "[nltk_data]     /Users/jonathandai/nltk_data...\n",
      "[nltk_data]   Package maxent_ne_chunker is already up-to-date!\n",
      "[nltk_data] Downloading package words to\n",
      "[nltk_data]     /Users/jonathandai/nltk_data...\n",
      "[nltk_data]   Package words is already up-to-date!\n"
     ]
    }
   ],
   "source": [
    "import json\n",
    "import nltk\n",
    "nltk.download('punkt')\n",
    "nltk.download('averaged_perceptron_tagger')\n",
    "from nltk.tokenize import word_tokenize\n",
    "nltk.download('maxent_ne_chunker')\n",
    "nltk.download('words')\n",
    "from nltk.tag import pos_tag\n",
    "from nltk.chunk import ne_chunk\n",
    "from bs4 import BeautifulSoup\n",
    "import requests\n",
    "import re\n",
    "import operator"
   ]
  },
  {
   "cell_type": "code",
   "execution_count": 33,
   "metadata": {},
   "outputs": [],
   "source": [
    "with open('gg2020.json', encoding='utf8') as f:\n",
    "    lines = f.readlines()\n",
    "\n",
    "gg_data = []\n",
    "for line in lines:\n",
    "    gg_data.append(json.loads(line))\n",
    "    "
   ]
  },
  {
   "cell_type": "code",
   "execution_count": null,
   "metadata": {},
   "outputs": [],
   "source": [
    "from pandas import DataFrame\n",
    "df = DataFrame.from_csv(\"tsv.tsv\", sep=\"\\t\")"
   ]
  },
  {
   "cell_type": "code",
   "execution_count": 52,
   "metadata": {},
   "outputs": [
    {
     "data": {
      "text/plain": [
       "5146"
      ]
     },
     "execution_count": 52,
     "metadata": {},
     "output_type": "execute_result"
    }
   ],
   "source": [
    "tweets_with_host = []\n",
    "for tweet in gg_data: \n",
    "    tweet_text = tweet['text']\n",
    "    if(\"host\" in tweet_text.lower()) :\n",
    "        tweets_with_host.append(tweet)\n",
    "len(tweets_with_host)"
   ]
  },
  {
   "cell_type": "code",
   "execution_count": 59,
   "metadata": {},
   "outputs": [],
   "source": [
    "def get_names(text):\n",
    "    article = nlp(text)\n",
    "    labels = [x.label_ for x in article.ents]\n",
    "    [(x.orth_,x.pos_, x.lemma_) for x in [y \n",
    "                                      for y\n",
    "                                      in nlp(text) \n",
    "                                      if not y.is_stop and y.pos_ != 'PUNCT']]\n",
    "    parts_of_speech = dict([(str(x), x.label_) for x in nlp(text).ents])\n",
    "    names = []\n",
    "    for (key, value) in parts_of_speech.items() :\n",
    "        if(value == 'PERSON') :\n",
    "            names.append(key)\n",
    "    return names "
   ]
  },
  {
   "cell_type": "code",
   "execution_count": 64,
   "metadata": {},
   "outputs": [
    {
     "name": "stdout",
     "output_type": "stream",
     "text": [
      "Ricky Gervais\n"
     ]
    },
    {
     "data": {
      "text/plain": [
       "'Ricky Gervais'"
      ]
     },
     "execution_count": 64,
     "metadata": {},
     "output_type": "execute_result"
    }
   ],
   "source": [
    "def get_host_name():\n",
    "    host_name_count = {}\n",
    "    for tweet in tweets_with_host: \n",
    "        names = get_names(tweet[\"text\"])\n",
    "        for name in names :\n",
    "            if name in host_name_count :\n",
    "                host_name_count[name] = host_name_count[name] + 1\n",
    "            else :\n",
    "                host_name_count[name] = 1\n",
    "    host = max(host_name_count.items(), key=operator.itemgetter(1))[0]\n",
    "    print(host)\n",
    "    return host\n",
    "get_host_name()"
   ]
  },
  {
   "cell_type": "code",
   "execution_count": 68,
   "metadata": {},
   "outputs": [
    {
     "name": "stdout",
     "output_type": "stream",
     "text": [
      "{'Awkwafina': 'PERSON', 'last night': 'TIME', 'Farewell': 'ORG'}\n"
     ]
    }
   ],
   "source": [
    "text = gg_data[610]['text']\n",
    "article = nlp(text)\n",
    "labels = [x.label_ for x in article.ents]\n",
    "[(x.orth_,x.pos_, x.lemma_) for x in [y \n",
    "                                  for y\n",
    "                                  in nlp(text) \n",
    "                                  if not y.is_stop and y.pos_ != 'PUNCT']]\n",
    "parts_of_speech = dict([(str(x), x.label_) for x in nlp(text).ents])\n",
    "print(parts_of_speech)"
   ]
  },
  {
   "cell_type": "code",
   "execution_count": 35,
   "metadata": {},
   "outputs": [
    {
     "name": "stdout",
     "output_type": "stream",
     "text": [
      "(S\n",
      "  •/JJ\n",
      "  (ORGANIZATION Priyanka/NNP Chopra/NNP)\n",
      "  and/CC\n",
      "  (PERSON Nick/NNP Jonas/NNP)\n",
      "  at/IN\n",
      "  the/DT\n",
      "  77th/CD\n",
      "  (PERSON Annual/NNP Golden/NNP Globe/NNP Awards/NNP)\n",
      "  present/VBD\n",
      "  the/DT\n",
      "  award/NN\n",
      "  for/IN\n",
      "  (GPE Best/NNP)\n",
      "  TV/NN\n",
      "  series/NN\n",
      "  for/IN\n",
      "  a/DT\n",
      "  musical/JJ\n",
      "  or/CC\n",
      "  comedy/NN\n",
      "  •/JJ\n",
      "  #/#\n",
      "  goldenglobes2020/JJ\n",
      "  @/NNP\n",
      "  (PERSON Golden/NNP Globes/NNP)\n",
      "  https/NN\n",
      "  :/:\n",
      "  //t.co/fivnKsE9Ib/NN)\n"
     ]
    }
   ],
   "source": [
    "ne_tree = ne_chunk(pos_tag(word_tokenize(gg_data[0][\"text\"])))\n",
    "print(ne_tree)"
   ]
  },
  {
   "cell_type": "code",
   "execution_count": 36,
   "metadata": {},
   "outputs": [],
   "source": [
    "def preprocess(sent):\n",
    "    sent = nltk.word_tokenize(sent)\n",
    "    sent = nltk.pos_tag(sent)\n",
    "    return sent"
   ]
  },
  {
   "cell_type": "code",
   "execution_count": 37,
   "metadata": {},
   "outputs": [
    {
     "data": {
      "text/plain": [
       "[('•', 'JJ'),\n",
       " ('Priyanka', 'NNP'),\n",
       " ('Chopra', 'NNP'),\n",
       " ('and', 'CC'),\n",
       " ('Nick', 'NNP'),\n",
       " ('Jonas', 'NNP'),\n",
       " ('at', 'IN'),\n",
       " ('the', 'DT'),\n",
       " ('77th', 'CD'),\n",
       " ('Annual', 'NNP'),\n",
       " ('Golden', 'NNP'),\n",
       " ('Globe', 'NNP'),\n",
       " ('Awards', 'NNP'),\n",
       " ('present', 'VBD'),\n",
       " ('the', 'DT'),\n",
       " ('award', 'NN'),\n",
       " ('for', 'IN'),\n",
       " ('Best', 'NNP'),\n",
       " ('TV', 'NN'),\n",
       " ('series', 'NN'),\n",
       " ('for', 'IN'),\n",
       " ('a', 'DT'),\n",
       " ('musical', 'JJ'),\n",
       " ('or', 'CC'),\n",
       " ('comedy', 'NN'),\n",
       " ('•', 'JJ'),\n",
       " ('#', '#'),\n",
       " ('goldenglobes2020', 'JJ'),\n",
       " ('@', 'NNP'),\n",
       " ('Golden', 'NNP'),\n",
       " ('Globes', 'NNP'),\n",
       " ('https', 'NN'),\n",
       " (':', ':'),\n",
       " ('//t.co/fivnKsE9Ib', 'NN')]"
      ]
     },
     "execution_count": 37,
     "metadata": {},
     "output_type": "execute_result"
    }
   ],
   "source": [
    "sent = preprocess(gg_data[0][\"text\"])\n",
    "sent"
   ]
  },
  {
   "cell_type": "code",
   "execution_count": 38,
   "metadata": {},
   "outputs": [],
   "source": [
    "pattern = 'NP: {<DT>?<JJ>*<NN>}'"
   ]
  },
  {
   "cell_type": "code",
   "execution_count": 39,
   "metadata": {},
   "outputs": [
    {
     "name": "stdout",
     "output_type": "stream",
     "text": [
      "(S\n",
      "  •/JJ\n",
      "  Priyanka/NNP\n",
      "  Chopra/NNP\n",
      "  and/CC\n",
      "  Nick/NNP\n",
      "  Jonas/NNP\n",
      "  at/IN\n",
      "  the/DT\n",
      "  77th/CD\n",
      "  Annual/NNP\n",
      "  Golden/NNP\n",
      "  Globe/NNP\n",
      "  Awards/NNP\n",
      "  present/VBD\n",
      "  (NP the/DT award/NN)\n",
      "  for/IN\n",
      "  Best/NNP\n",
      "  (NP TV/NN)\n",
      "  (NP series/NN)\n",
      "  for/IN\n",
      "  a/DT\n",
      "  musical/JJ\n",
      "  or/CC\n",
      "  (NP comedy/NN)\n",
      "  •/JJ\n",
      "  #/#\n",
      "  goldenglobes2020/JJ\n",
      "  @/NNP\n",
      "  Golden/NNP\n",
      "  Globes/NNP\n",
      "  (NP https/NN)\n",
      "  :/:\n",
      "  (NP //t.co/fivnKsE9Ib/NN))\n"
     ]
    }
   ],
   "source": [
    "cp = nltk.RegexpParser(pattern)\n",
    "cs = cp.parse(sent)\n",
    "print(cs)"
   ]
  },
  {
   "cell_type": "code",
   "execution_count": 41,
   "metadata": {},
   "outputs": [],
   "source": [
    "import spacy\n",
    "from spacy import displacy\n",
    "from collections import Counter\n",
    "import en_core_web_sm\n",
    "nlp = en_core_web_sm.load()"
   ]
  },
  {
   "cell_type": "code",
   "execution_count": 42,
   "metadata": {},
   "outputs": [
    {
     "name": "stdout",
     "output_type": "stream",
     "text": [
      "[('Priyanka Chopra', 'ORG'),\n",
      " ('Nick Jonas', 'PERSON'),\n",
      " ('77th', 'ORDINAL'),\n",
      " ('Annual Golden Globe Awards', 'EVENT'),\n",
      " ('goldenglobes2020', 'MONEY')]\n"
     ]
    }
   ],
   "source": [
    "doc = nlp(gg_data[0][\"text\"])\n",
    "pprint([(X.text, X.label_) for X in doc.ents])"
   ]
  },
  {
   "cell_type": "code",
   "execution_count": 43,
   "metadata": {},
   "outputs": [
    {
     "name": "stdout",
     "output_type": "stream",
     "text": [
      "[(•, 'O', ''),\n",
      " (Priyanka, 'B', 'ORG'),\n",
      " (Chopra, 'I', 'ORG'),\n",
      " (and, 'O', ''),\n",
      " (Nick, 'B', 'PERSON'),\n",
      " (Jonas, 'I', 'PERSON'),\n",
      " (at, 'O', ''),\n",
      " (the, 'O', ''),\n",
      " (77th, 'B', 'ORDINAL'),\n",
      " (Annual, 'B', 'EVENT'),\n",
      " (Golden, 'I', 'EVENT'),\n",
      " (Globe, 'I', 'EVENT'),\n",
      " (Awards, 'I', 'EVENT'),\n",
      " (present, 'O', ''),\n",
      " (the, 'O', ''),\n",
      " (award, 'O', ''),\n",
      " (for, 'O', ''),\n",
      " (Best, 'O', ''),\n",
      " (TV, 'O', ''),\n",
      " (series, 'O', ''),\n",
      " (for, 'O', ''),\n",
      " (a, 'O', ''),\n",
      " (musical, 'O', ''),\n",
      " (or, 'O', ''),\n",
      " (comedy, 'O', ''),\n",
      " (•, 'O', ''),\n",
      " (#, 'O', ''),\n",
      " (goldenglobes2020, 'B', 'MONEY'),\n",
      " (@, 'O', ''),\n",
      " (Golden, 'O', ''),\n",
      " (Globes, 'O', ''),\n",
      " (https://t.co/fivnKsE9Ib, 'O', '')]\n"
     ]
    }
   ],
   "source": [
    "pprint([(X, X.ent_iob_, X.ent_type_) for X in doc])"
   ]
  },
  {
   "cell_type": "code",
   "execution_count": 46,
   "metadata": {},
   "outputs": [],
   "source": [
    "from bs4 import BeautifulSoup\n",
    "import requests\n",
    "import re"
   ]
  },
  {
   "cell_type": "code",
   "execution_count": 47,
   "metadata": {},
   "outputs": [],
   "source": [
    "def url_to_string(url):\n",
    "    res = requests.get(url)\n",
    "    html = res.text\n",
    "    soup = BeautifulSoup(html, 'html5lib')\n",
    "    for script in soup([\"script\", \"style\", 'aside']):\n",
    "        script.extract()\n",
    "    return \" \".join(re.split(r'[\\n\\t]+', soup.get_text()))"
   ]
  },
  {
   "cell_type": "code",
   "execution_count": 48,
   "metadata": {},
   "outputs": [],
   "source": [
    "first_tweet = gg_data[0][\"text\"]\n",
    "article = nlp(first_tweet)"
   ]
  },
  {
   "cell_type": "code",
   "execution_count": 49,
   "metadata": {},
   "outputs": [
    {
     "data": {
      "text/plain": [
       "Counter({'ORG': 1, 'PERSON': 1, 'ORDINAL': 1, 'EVENT': 1, 'MONEY': 1})"
      ]
     },
     "execution_count": 49,
     "metadata": {},
     "output_type": "execute_result"
    }
   ],
   "source": [
    "labels = [x.label_ for x in article.ents]\n",
    "Counter(labels)"
   ]
  },
  {
   "cell_type": "code",
   "execution_count": 50,
   "metadata": {},
   "outputs": [
    {
     "data": {
      "text/plain": [
       "[('Priyanka', 'PROPN', 'Priyanka'),\n",
       " ('Chopra', 'PROPN', 'Chopra'),\n",
       " ('Nick', 'PROPN', 'Nick'),\n",
       " ('Jonas', 'PROPN', 'Jonas'),\n",
       " ('77th', 'ADJ', '77th'),\n",
       " ('Annual', 'PROPN', 'Annual'),\n",
       " ('Golden', 'PROPN', 'Golden'),\n",
       " ('Globe', 'PROPN', 'Globe'),\n",
       " ('Awards', 'PROPN', 'Awards'),\n",
       " ('present', 'VERB', 'present'),\n",
       " ('award', 'NOUN', 'award'),\n",
       " ('Best', 'ADJ', 'good'),\n",
       " ('TV', 'NOUN', 'tv'),\n",
       " ('series', 'NOUN', 'series'),\n",
       " ('musical', 'ADJ', 'musical'),\n",
       " ('comedy', 'NOUN', 'comedy'),\n",
       " ('•', 'X', '•'),\n",
       " ('#', 'NOUN', '#'),\n",
       " ('goldenglobes2020', 'NOUN', 'goldenglobes2020'),\n",
       " ('@', 'ADP', '@'),\n",
       " ('Golden', 'PROPN', 'Golden'),\n",
       " ('Globes', 'PROPN', 'Globes'),\n",
       " ('https://t.co/fivnKsE9Ib', 'X', 'https://t.co/fivnkse9ib')]"
      ]
     },
     "execution_count": 50,
     "metadata": {},
     "output_type": "execute_result"
    }
   ],
   "source": [
    "[(x.orth_,x.pos_, x.lemma_) for x in [y \n",
    "                                      for y\n",
    "                                      in nlp(first_tweet) \n",
    "                                      if not y.is_stop and y.pos_ != 'PUNCT']]"
   ]
  },
  {
   "cell_type": "code",
   "execution_count": 51,
   "metadata": {},
   "outputs": [
    {
     "data": {
      "text/plain": [
       "{'Priyanka Chopra': 'ORG',\n",
       " 'Nick Jonas': 'PERSON',\n",
       " '77th': 'ORDINAL',\n",
       " 'Annual Golden Globe Awards': 'EVENT',\n",
       " 'goldenglobes2020': 'MONEY'}"
      ]
     },
     "execution_count": 51,
     "metadata": {},
     "output_type": "execute_result"
    }
   ],
   "source": [
    "dict([(str(x), x.label_) for x in nlp(first_tweet).ents])"
   ]
  },
  {
   "cell_type": "code",
   "execution_count": null,
   "metadata": {},
   "outputs": [],
   "source": []
  }
 ],
 "metadata": {
  "kernelspec": {
   "display_name": "Python 3",
   "language": "python",
   "name": "python3"
  },
  "language_info": {
   "codemirror_mode": {
    "name": "ipython",
    "version": 3
   },
   "file_extension": ".py",
   "mimetype": "text/x-python",
   "name": "python",
   "nbconvert_exporter": "python",
   "pygments_lexer": "ipython3",
   "version": "3.7.6"
  }
 },
 "nbformat": 4,
 "nbformat_minor": 2
}
