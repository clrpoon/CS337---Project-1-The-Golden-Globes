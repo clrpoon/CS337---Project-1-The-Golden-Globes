{
 "cells": [
  {
   "cell_type": "code",
   "execution_count": 1,
   "metadata": {},
   "outputs": [
    {
     "name": "stderr",
     "output_type": "stream",
     "text": [
      "[nltk_data] Downloading package punkt to\n",
      "[nltk_data]     C:\\Users\\casey\\AppData\\Roaming\\nltk_data...\n",
      "[nltk_data]   Package punkt is already up-to-date!\n",
      "[nltk_data] Downloading package averaged_perceptron_tagger to\n",
      "[nltk_data]     C:\\Users\\casey\\AppData\\Roaming\\nltk_data...\n",
      "[nltk_data]   Package averaged_perceptron_tagger is already up-to-\n",
      "[nltk_data]       date!\n",
      "[nltk_data] Downloading package maxent_ne_chunker to\n",
      "[nltk_data]     C:\\Users\\casey\\AppData\\Roaming\\nltk_data...\n",
      "[nltk_data]   Package maxent_ne_chunker is already up-to-date!\n",
      "[nltk_data] Downloading package words to\n",
      "[nltk_data]     C:\\Users\\casey\\AppData\\Roaming\\nltk_data...\n",
      "[nltk_data]   Package words is already up-to-date!\n"
     ]
    }
   ],
   "source": [
    "import json\n",
    "import nltk\n",
    "nltk.download('punkt')\n",
    "nltk.download('averaged_perceptron_tagger')\n",
    "from nltk.tokenize import word_tokenize\n",
    "nltk.download('maxent_ne_chunker')\n",
    "nltk.download('words')\n",
    "from nltk.tag import pos_tag\n",
    "from nltk.chunk import ne_chunk\n",
    "from bs4 import BeautifulSoup\n",
    "import requests\n",
    "import re\n",
    "import operator\n",
    "import spacy\n",
    "from spacy import displacy\n",
    "from collections import Counter\n",
    "import en_core_web_sm"
   ]
  },
  {
   "cell_type": "markdown",
   "metadata": {},
   "source": [
    "pip install nltk\n",
    "\n",
    "pip install beautifulsoup4\n",
    "\n",
    "pip install spacy\n",
    "\n",
    "python -m spacy download en_core_web_sm"
   ]
  },
  {
   "cell_type": "code",
   "execution_count": 2,
   "metadata": {},
   "outputs": [],
   "source": [
    "nlp = en_core_web_sm.load()"
   ]
  },
  {
   "cell_type": "code",
   "execution_count": 3,
   "metadata": {},
   "outputs": [],
   "source": [
    "with open('gg2020.json', encoding='utf8') as f:\n",
    "    lines = f.readlines()\n",
    "\n",
    "gg_data = []\n",
    "for line in lines:\n",
    "    gg_data.append(json.loads(line))\n",
    "    "
   ]
  },
  {
   "cell_type": "code",
   "execution_count": 35,
   "metadata": {},
   "outputs": [
    {
     "name": "stdout",
     "output_type": "stream",
     "text": [
      "<built-in method sort of list object at 0x0000020964176E88>\n"
     ]
    }
   ],
   "source": [
    "people_awards = [\"Best Performance by an Actress in a Motion Picture - Drama\", \n",
    "          \"Best Performance by an Actor in a Motion Picture - Drama\", \n",
    "          \"Best Performance by an Actress in a Motion Picture - Musical or Comedy\",\n",
    "         \"Best Performance by an Actor in a Motion Picture - Musical or Comedy\",\n",
    "         \"Best Performance by an Actress in a Supporting Role in any Motion Picture\",\n",
    "         \"Best Performance by an Actor in a Supporting Role in any Motion Picture\",\n",
    "         \"Best Director - Motion Picture\",\n",
    "         \"Best Screenplay - Motion Picture\",]\n",
    "awards = ['cecil b. demille award', \n",
    "          'best motion picture - drama', \n",
    "          'best performance by an actress in a motion picture - drama', \n",
    "          'best performance by an actor in a motion picture - drama', \n",
    "          'best motion picture - comedy or musical', \n",
    "          'best performance by an actress in a motion picture - comedy or musical', \n",
    "          'best performance by an actor in a motion picture - comedy or musical', \n",
    "          'best animated feature film', \n",
    "          'best foreign language film', \n",
    "          'best performance by an actress in a supporting role in a motion picture', \n",
    "          'best performance by an actor in a supporting role in a motion picture', \n",
    "          'best director - motion picture', 'best screenplay - motion picture', 'best original score - motion picture', 'best original song - motion picture', 'best television series - drama', 'best performance by an actress in a television series - drama', 'best performance by an actor in a television series - drama', 'best television series - comedy or musical', 'best performance by an actress in a television series - comedy or musical', 'best performance by an actor in a television series - comedy or musical', 'best mini-series or motion picture made for television', 'best performance by an actress in a mini-series or motion picture made for television', 'best performance by an actor in a mini-series or motion picture made for television', 'best performance by an actress in a supporting role in a series, mini-series or motion picture made for television', 'best performance by an actor in a supporting role in a series, mini-series or motion picture made for television'].sort\n",
    "\n"
   ]
  },
  {
   "cell_type": "code",
   "execution_count": 45,
   "metadata": {},
   "outputs": [
    {
     "name": "stdout",
     "output_type": "stream",
     "text": [
      "['Best Motion Picture - Drama', 'Best Motion Picture - Musical or Comedy', 'Best Motion Picture - Foreign Language', 'Best Motion Picture - Animated', 'Best Director - Motion Picture', 'Best Actor - Motion Picture Drama', 'Best Actor - Motion Picture Musical or Comedy', 'Best Actress - Motion Picture Drama', 'Best Actress - Motion Picture Musical or Comedy', 'Best Supporting Actor - Motion Picture', 'Best Supporting Actress - Motion Picture', 'Best Screenplay - Motion Picture', 'Best Original Score - Motion Picture', 'Best Original Song - Motion Picture', 'Cecil B. DeMille Award for Lifetime Achievement in Motion Pictures', 'Best Television Series - Drama', 'Best Television Series - Musical or Comedy', 'Best Miniseries or Television Film', 'Best Actor - Television Series Drama', 'Best Actor - Television Series Musical or Comedy', 'Best Actor - Miniseries or Television Film', 'Best Actress - Television Series Drama', 'Best Actress - Television Series Musical or Comedy', 'Best Actress - Miniseries or Television Film', 'Best Supporting Actor - Series, Miniseries or Television Film', 'Best Supporting Actress - Series, Miniseries or Television Film', 'Carol Burnett Award for Lifetime Achievement in Television']\n"
     ]
    }
   ],
   "source": [
    "\n",
    "motion_picture_awards = [\n",
    "'Best Motion Picture - Drama',\n",
    "'Best Motion Picture - Musical or Comedy',\n",
    "'Best Motion Picture - Foreign Language',\n",
    "'Best Motion Picture - Animated',\n",
    "'Best Director - Motion Picture',\n",
    "'Best Actor - Motion Picture Drama',\n",
    "'Best Actor - Motion Picture Musical or Comedy',\n",
    "'Best Actress - Motion Picture Drama',\n",
    "'Best Actress - Motion Picture Musical or Comedy',\n",
    "'Best Supporting Actor - Motion Picture',\n",
    "'Best Supporting Actress - Motion Picture',\n",
    "'Best Screenplay - Motion Picture',\n",
    "'Best Original Score - Motion Picture',\n",
    "'Best Original Song - Motion Picture',\n",
    "'Cecil B. DeMille Award for Lifetime Achievement in Motion Pictures']\n",
    "\n",
    "tv_awards = [\n",
    "'Best Television Series - Drama',\n",
    "'Best Television Series - Musical or Comedy',\n",
    "'Best Miniseries or Television Film',\n",
    "'Best Actor - Television Series Drama',\n",
    "'Best Actor - Television Series Musical or Comedy',\n",
    "'Best Actor - Miniseries or Television Film',\n",
    "'Best Actress - Television Series Drama',\n",
    "'Best Actress - Television Series Musical or Comedy',\n",
    "'Best Actress - Miniseries or Television Film',\n",
    "'Best Supporting Actor - Series, Miniseries or Television Film',\n",
    "'Best Supporting Actress - Series, Miniseries or Television Film',\n",
    "'Carol Burnett Award for Lifetime Achievement in Television']\n",
    "\n",
    "all_awards = motion_picture_awards + tv_awards\n",
    "print(all_awards)"
   ]
  },
  {
   "cell_type": "code",
   "execution_count": 5,
   "metadata": {},
   "outputs": [
    {
     "data": {
      "text/plain": [
       "5146"
      ]
     },
     "execution_count": 5,
     "metadata": {},
     "output_type": "execute_result"
    }
   ],
   "source": [
    "tweets_with_host = []\n",
    "for tweet in gg_data: \n",
    "    tweet_text = tweet['text']\n",
    "    if(\"host\" in tweet_text.lower()) :\n",
    "        tweets_with_host.append(tweet)\n",
    "len(tweets_with_host)"
   ]
  },
  {
   "cell_type": "code",
   "execution_count": 6,
   "metadata": {},
   "outputs": [],
   "source": [
    "def get_names(text):\n",
    "    article = nlp(text)\n",
    "    labels = [x.label_ for x in article.ents]\n",
    "    [(x.orth_,x.pos_, x.lemma_) for x in [y \n",
    "                                      for y\n",
    "                                      in nlp(text) \n",
    "                                      if not y.is_stop and y.pos_ != 'PUNCT']]\n",
    "    parts_of_speech = dict([(str(x), x.label_) for x in nlp(text).ents])\n",
    "    names = []\n",
    "    for (key, value) in parts_of_speech.items() :\n",
    "        if(value == \"PERSON\") :\n",
    "            names.append(key)\n",
    "    return names "
   ]
  },
  {
   "cell_type": "code",
   "execution_count": 7,
   "metadata": {},
   "outputs": [
    {
     "name": "stdout",
     "output_type": "stream",
     "text": [
      "Ricky Gervais\n"
     ]
    },
    {
     "data": {
      "text/plain": [
       "'Ricky Gervais'"
      ]
     },
     "execution_count": 7,
     "metadata": {},
     "output_type": "execute_result"
    }
   ],
   "source": [
    "def get_host_name():\n",
    "    host_name_count = {}\n",
    "    for tweet in tweets_with_host: \n",
    "        names = get_names(tweet[\"text\"])\n",
    "        for name in names :\n",
    "            if name in host_name_count :\n",
    "                host_name_count[name] = host_name_count[name] + 1\n",
    "            else :\n",
    "                host_name_count[name] = 1\n",
    "    host = max(host_name_count.items(), key=operator.itemgetter(1))[0]\n",
    "    print(host)\n",
    "    return host\n",
    "get_host_name()"
   ]
  },
  {
   "cell_type": "code",
   "execution_count": 62,
   "metadata": {},
   "outputs": [],
   "source": [
    "# returns a list of tweets containting the given string \n",
    "def get_tweets(s):\n",
    "    tweets_with_str = []\n",
    "    for tweet in gg_data: \n",
    "        tweet_text = tweet['text']\n",
    "        if(s.lower() in tweet_text.lower()) :\n",
    "            tweets_with_str.append(tweet)\n",
    "    return tweets_with_str\n",
    "\n",
    "def get_tweets_text(s):\n",
    "    tweets_with_str = []\n",
    "    for tweet in gg_data: \n",
    "        tweet_text = tweet['text']\n",
    "        if(s.lower() in tweet_text.lower()) :\n",
    "            tweets_with_str.append(tweet['text'])\n",
    "    return tweets_with_str"
   ]
  },
  {
   "cell_type": "code",
   "execution_count": 58,
   "metadata": {},
   "outputs": [],
   "source": [
    "#filter list of tweet bodies for exps\n",
    "def filter_tweets(tweets, exps):\n",
    "    tweets_with_str = []\n",
    "    for tweet in tweets:\n",
    "        tweet_lower = tweet['text'].lower()\n",
    "        for exp in exps:\n",
    "            t = re.findall(exp,tweet_lower)\n",
    "            print(t)\n",
    "            break\n",
    "    print(tweets_with_str)\n",
    "    return tweets_with_str"
   ]
  },
  {
   "cell_type": "code",
   "execution_count": 28,
   "metadata": {},
   "outputs": [
    {
     "data": {
      "text/plain": [
       "{'Best Performance by an Actress in a Motion Picture - Drama': 'Renée Zellweger',\n",
       " 'Best Performance by an Actor in a Motion Picture - Drama': 'Joaquin Phoenix',\n",
       " 'Best Performance by an Actress in a Motion Picture - Musical or Comedy': 'Ana de Armas',\n",
       " 'Best Performance by an Actor in a Motion Picture - Musical or Comedy': 'Leonardo DiCaprio',\n",
       " 'Best Performance by an Actress in a Supporting Role in any Motion Picture': 'Laura Dern',\n",
       " 'Best Performance by an Actor in a Supporting Role in any Motion Picture': 'Brad Pitt',\n",
       " 'Best Director - Motion Picture': 'Sam Mendes',\n",
       " 'Best Screenplay - Motion Picture': 'Quentin Tarantino'}"
      ]
     },
     "execution_count": 28,
     "metadata": {},
     "output_type": "execute_result"
    }
   ],
   "source": [
    "# awards_list is a list of award strings [\"Best Motion Picture - Drama\", \"Best Director\", etc]\n",
    "# assuming winners are the most name dropped with an award, this can also be extended to find nominees\n",
    "# returns map of award : winner (hopefully)\n",
    "def get_award_winners(awards_list):\n",
    "    award_winners = {}\n",
    "    for award in awards_list:\n",
    "        tweets_with_award = get_tweets(award)\n",
    "        name_count = {}\n",
    "        for tweet in tweets_with_award: \n",
    "            names = get_names(tweet[\"text\"])\n",
    "            for name in names :\n",
    "                if name.lower() == \"goldenglobes\" or name.lower() == \"golden globes\" or len(name.split()) < 2:\n",
    "                    pass\n",
    "                elif name in name_count :\n",
    "                    name_count[name] = name_count[name] + 1\n",
    "                else :\n",
    "                    name_count[name] = 1\n",
    "        winner = max(name_count.items(), key=operator.itemgetter(1))[0]\n",
    "        award_winners[award] = winner\n",
    "    return award_winners\n",
    "\n",
    "get_award_winners(people_awards)"
   ]
  },
  {
   "cell_type": "code",
   "execution_count": 64,
   "metadata": {
    "scrolled": false
   },
   "outputs": [
    {
     "name": "stdout",
     "output_type": "stream",
     "text": [
      "['Congratulations to all the Golden Globe Award Winners!  \\nTechnicolor and our creative studios are honored to have worked on 4 of the winning projects, including the Best Motion Picture - Drama winner, 1917.\\n@technicolorpost @mpc_film #postproduction #colorfinishing #goldenglobes https://t.co/CXmrJdEnw2', 'Congratulations to 1917 for its two Golden Globe wins last night - Best Director and Best Motion Picture - Drama\\n\\nExperience the spectacular 1917 from Friday - tickets on sale now at https://t.co/nC4I1su6zJ https://t.co/OQVMlk3l9V', 'Golden Globes recap!\\n\\nBest Motion Picture - Drama\\n🌎1917\\n\\nBest Motion Picture - Comedy\\n🌎Once Upon a Time in Hollywood\\n\\nBest Animated Feature Film\\n🌎Missing Link\\n\\nBest Foreign Language Film\\n🌎Parasite', \"Congratulations to the following clients who were part of these fantastic Golden Globe Winners 2020; Billy Postlethwaite for '1917' Golden Globe for Best Motion Picture - Drama https://t.co/G2qRm4r4NM\", 'It was a big and surprising win for #SamMendes at the 77th #GoldenGlobe Awards ceremony with the director picking Golden Globe for best director, and his war drama \"1917\" emerging as the Best Motion Picture - Drama.\\n\\nhttps://t.co/zUQkpnU1Pv https://t.co/MlYJAzTSMz', \"Huge congratulations to Screenwriter and @RCSFilm graduate @WeWriteAtDawn Winner of the Golden Globe Award for Best Motion Picture - Drama for @1917 which she co-wrote with Sam Mendes. An amazing achievement, we're so proud of you!  #GoldenGlobes #RCSAlumni https://t.co/IihaLM8z8z\", '\"Mendes has created a profoundly moving and utterly immersive piece of filmmaking, proving one of this years cinematic highlights.\"\\n\\nCheck out our ⭐⭐⭐⭐⭐ review of #1917 which picked up the Golden Globe for Best Motion Picture - Drama https://t.co/YbOxv6yB5c', '#GoldenGlobes 2020: WW1 film 1917 wins Best Motion Picture - Drama Award in shock result... beating Joker, The Irishman and Marriage Story https://t.co/cWrwtPglhX', 'Golden Globes 2020: WW1 film 1917 wins Best Motion Picture - Drama Award in shock result\\n \\nhttps://t.co/Ko0HZM8bMT', 'It was a big and surprising win for #SamMendes at the 77th #GoldenGlobe Awards ceremony with the director picking Golden Globe for best director, and his war drama \"1917\" emerging as the Best Motion Picture - Drama.\\n\\nPhoto: IANS https://t.co/egPSdr0huL', 'NEWS! @1917 has won the Golden Globe for Best Motion Picture - Drama. 🎉🎉🎉 \\nWe are beyond thrilled! \\n#GoldenGlobes #BestPicture #1917Film #1917Movie https://t.co/qSsYiGTxAo', 'Best Motion Picture - Drama By Golden Globe Award Goes To 1917\\n\\n#GoldenGIobes #goldenglobes2020 https://t.co/1P4hxN1Has', 'Congratulations to Sam Mendes, winner of the Golden Globe for Best Director for 1917, which also won the top award of the night, Best Motion Picture - Drama. #sammendes #1917movie  #goldenglobes #hfpa #cinema #film #internationalfilm #telescopefilm https://t.co/bOV12hpytK', '1917 just won a Golden Globe for Best Motion Picture - Drama &amp; it never showed in the Philippines because we pride ourselves in #MMFF movies like The Mall, The Merrier &amp; 3Pol Trobol: Huli Ka Balbon', 'Sam Mendes accepts the award for BEST MOTION PICTURE - DRAMA for \"1917\" onstage, with Dean-Charles Chapman, George MacKay and Pippa Harris, during the 77th Annual Golden Globe Awards at https://t.co/l0d2uFYncs', 'Golden Globe Winner - best motion picture - drama 1917 .  Starts Thursday at the Sun.  Session times available tomorrow. @ Sun Theatre https://t.co/xiMn35X0Fj', \"gotta be a first that the Golden Globes and me are in sync with Best Motion Picture - Drama (while everyone is mad, too)\\n\\n(I mean, I'd have nominated other things...but of what's there...it's my fave &amp; it's in my top 10)\", '\"1917\" wins Best Motion Picture - Drama at the Golden Globes', \"Final awards of the night: Renée Zellweger won the #GoldenGlobe for Best Performance by an Actress in a Motion Picture - Drama. '1917' won Best Motion Picture - Drama. #Live updates here --&gt;  https://t.co/UKZlYBAZI6\\n\\n#GoldenGlobes #goldenglobes2020 https://t.co/MDThaq7PxV\", \"Alas, winner #1917movie is not in wide release, so won't be able to see until next weekend. Seen all the other movies, though. Best Motion Picture - Drama - #GoldenGlobes2020: The Complete Winners List https://t.co/6ETC4rMZzP via @THR\", 'The Golden Globes were so enjoyable to watch tonight. Also, I’m definitely seeing 1917 during this month since it won a Golden Globe for the Best Motion Picture - Drama. #goldenglobes2020', '1917 bags Best Motion Picture - Drama award, beating films like #TheIrishman and #MarriageStory | #GoldenGlobes\\n\\nLive updates: https://t.co/D4ywFSJRxH https://t.co/hWi8FTSH1B', 'The Golden Globe for Best Motion Picture - Drama has gone to 1917! 😍 #GoldenGlobes https://t.co/FHqKSIaOZR', \"'1917' wins the Golden Globe for Best Motion Picture - Drama. #GoldenGlobes https://t.co/bQoEB77MTS\", \"'1917' wins Best Motion Picture - Drama. #GoldenGlobes\\n\\nClick for the full list of winners. https://t.co/ZMAYfmuXNW\", '1917 wins the Golden Globe for Best Motion Picture - Drama https://t.co/U0Szlj8TFW https://t.co/zcLXkhM8kn', 'Congrats to the team at @1917 on the Golden Globe win for Best Motion Picture - Drama. All the winners: https://t.co/YEuppZn0AD https://t.co/xKsM9GLgoB', 'The Golden Globe for Best Motion Picture - Drama goes to 1917!\\n#GoldenGlobes #LRMgoldenglobes https://t.co/kYPRZeRka2', 'GOLDEN GLOBES: \"1917\" wins Best Motion Picture - Drama at the #GoldenGlobes https://t.co/t7IJrikIIm', 'Golden Globe Winner for Best Motion Picture - Drama is #1917Film!!! #GoldenGlobes #goldenglobes2020', '1917 wins Best Motion Picture - Drama at the #GoldenGlobes! #1917movie https://t.co/VVh4KlKqN0', '@jokermovie 1917 wins Best Motion Picture - Drama at the #GoldenGlobes: https://t.co/QUt13BWYsB #goldenglobes2020 #SamMendes https://t.co/I5DYC7rq6s', '#1917Movie wins Best Motion Picture - Drama at the #GoldenGlobes awards https://t.co/ZaWLSAgLnP https://t.co/JYtKqLuqFo', \"And the #GoldenGlobes award for Best Motion Picture - Drama goes to... '1917'!\\n\\nHere's the full list of winners --&gt; https://t.co/mTsNZbBrnI https://t.co/ApWZ3S2YvL\", 'The Golden Globe for Best Motion Picture - Drama goes to 1917', 'The Golden Globe for Best Motion Picture - Drama goes to 1917', 'The Golden Globe for Best Motion Picture - Drama goes to #1917Movie #GoldenGlobes', '** Keep Refreshing This Page To Find Out The Winners As They Are Announced Live Best Motion Picture - Drama 1917  THE IRISHMAN  JOKER  MARRIAGE STORY  THE TWO POPES Best Motion Picture -... https://t.co/6Cr0khnfWg', '🎬Richard Burton (Henry VIII) &amp; Genevieve Bujold (Anne Boleyn) starred in Anne of the Thousand Days (1969). In 1970, it was the Golden Globe winner for Best Motion Picture - Drama.🎬 #TCMParty #GoldenGlobes https://t.co/a59tOL6MBK', 'Mi prode de los Golden Globes es \\nBest Motion Picture - Drama :\\nThe Irishman/Joker \\nBest Motion Picture - Musical or Comedy :\\nOnce Upon a Time in Hollywood \\nBest performance by an actor in Drama :\\nJoaquin Phoenix\\nBest performance by an actor in Musical/Comedy \\nLeonardo DiCaprio', '2020 Golden Globes Predictions:\\n\\nBest Motion Picture - Drama: The Irishman\\nBest Motion Picture - Comedy: Knives Out\\nBest Actress (Drama) - Saoirse Ronan \\nBest Actor (Drama) - Adam Driver\\nBest Actress (Comedy) - Awkwafina\\nBest Actor (Comedy) - Leo Dicaprio', \"Here are my predictions for the Golden Globe Awards. I haven't seen everything here so the choices I make doesn't necessarily mean I agree. Just picking what I think will win\\n\\nBest Motion Picture - Drama - The Irishman\\n\\nBest Film Drama Actress - Renee Zellweger\\n\\n#GoldenGlobes\", 'Golden Globe Predictions\\n\\nBest Motion Picture - Drama\\n\\nWinner:Joker\\nWhat Should Win: Joker\\nPossible Upset: The Irishman \\n\\nBest Motion Picture - Musical or Comedy\\n\\nWinner: Once Upon a Time...in Hollywood \\nWhat Should… https://t.co/PkymVXA5aT', 'The 77th annual Golden Globe Awards are taking place tonight, which one of these do you think will win Best Motion Picture - Drama?\\n.\\n.\\n.\\n.\\n#hg #homegenius #GoldenGlobes #goldenglobes2020 https://t.co/weXZL238SW', '@TheRealAJYoung @FamousMonsters Specifically Best Picture or equivalent? Hm...depends on your definition. Silence of the Lambs won, The Shape of Water won, The Exorcist won the Golden Globe Best Motion Picture - Drama (which is seen as its most prestigious award)', '2020 Golden Globe Awards\\n\\nBest Motion Picture - Drama\\nWill Win: The Irishman\\nShould Win: Marriage Story\\n\\nBest Actor - Motion Picture - Drama\\nWill Win: Joaquin Phoenix - Joker\\nShould Win: Adam Driver - Marriage Story... https://t.co/vBQfojqKqe', \"The Golden Globes are coming soon ! I'm very excited but I'm also optimistic !! ❤\\n\\nBest Motion Picture - Drama\\n#Joker #JokerMovie #GoldenGlobes #GoldenGlobes2020 https://t.co/Wvrit2v0YG\", 'My Golden Globe Predictions: \\n\\nBest Motion Picture - Drama \\n1917\\n\\nBest Motion Picture - Comedy\\nOnce Upon A Time In Hollywood\\n\\nBest Actor - Drama\\nJoaquin Phoenix\\n\\nBest Actress - Drama \\nCharlize Theron\\n\\nBest Actor - Comedy\\nLeonardo DiCaprio \\n\\nBest Actress - Comedy\\nAwkwafina', '#GoldenGlobes 2020 Best Motion Picture - Drama \\n#1917Movie #TheIrishman #Joker #MarriageStory #TheTwoPopes #HollywoodCiak https://t.co/2ebqphegZD']\n"
     ]
    },
    {
     "data": {
      "text/plain": [
       "{}"
      ]
     },
     "execution_count": 64,
     "metadata": {},
     "output_type": "execute_result"
    }
   ],
   "source": [
    "def get_award_presenters(awards_list):\n",
    "    single_presenter_search = re.compile(r'[A-Z][a-z]+\\s[A-Z][a-z]+(?=\\spresent)')\n",
    "    two_presenters_search1 = re.compile(r'[A-Z][a-z]+\\s[A-Z][a-z]+\\sand\\s[A-Z][a-z]+\\s[A-Z][a-z]+present')\n",
    "    two_presenters_search2 = re.compile(r'[A-Z][a-z]+\\s[A-Z][a-z]+\\sand\\s[A-Z][a-z]+\\s[A-Z][a-z]+introduc')\n",
    "    filters = [single_presenter_search, two_presenters_search1, two_presenters_search2]\n",
    "\n",
    "    award_to_presenters = {}\n",
    "    for award in all_awards:\n",
    "        award_lower = award.lower()\n",
    "        #get tweets with award name\n",
    "        tweets = get_tweets_text(award_lower)\n",
    "        print(tweets)\n",
    "        #filter tweets for presenting format\n",
    "        #tweets = filter_tweets(tweets, filters)\n",
    "        break\n",
    "        \n",
    "            \n",
    "        award_to_presenters[award] = predicted_presenter\n",
    "    return award_to_presenters\n",
    "\n",
    "get_award_presenters(awards)"
   ]
  },
  {
   "cell_type": "code",
   "execution_count": 10,
   "metadata": {},
   "outputs": [
    {
     "name": "stdout",
     "output_type": "stream",
     "text": [
      "{'Awkwafina': 'PERSON', 'last night': 'TIME', 'Farewell': 'ORG'}\n"
     ]
    }
   ],
   "source": [
    "text = gg_data[610]['text']\n",
    "article = nlp(text)\n",
    "labels = [x.label_ for x in article.ents]\n",
    "[(x.orth_,x.pos_, x.lemma_) for x in [y \n",
    "                                  for y\n",
    "                                  in nlp(text) \n",
    "                                  if not y.is_stop and y.pos_ != 'PUNCT']]\n",
    "parts_of_speech = dict([(str(x), x.label_) for x in nlp(text).ents])\n",
    "print(parts_of_speech)"
   ]
  },
  {
   "cell_type": "code",
   "execution_count": 18,
   "metadata": {},
   "outputs": [
    {
     "name": "stdout",
     "output_type": "stream",
     "text": [
      "(S\n",
      "  •/JJ\n",
      "  (ORGANIZATION Priyanka/NNP Chopra/NNP)\n",
      "  and/CC\n",
      "  (PERSON Nick/NNP Jonas/NNP)\n",
      "  at/IN\n",
      "  the/DT\n",
      "  77th/CD\n",
      "  (PERSON Annual/NNP Golden/NNP Globe/NNP Awards/NNP)\n",
      "  present/VBD\n",
      "  the/DT\n",
      "  award/NN\n",
      "  for/IN\n",
      "  (GPE Best/NNP)\n",
      "  TV/NN\n",
      "  series/NN\n",
      "  for/IN\n",
      "  a/DT\n",
      "  musical/JJ\n",
      "  or/CC\n",
      "  comedy/NN\n",
      "  •/JJ\n",
      "  #/#\n",
      "  goldenglobes2020/JJ\n",
      "  @/NNP\n",
      "  (PERSON Golden/NNP Globes/NNP)\n",
      "  https/NN\n",
      "  :/:\n",
      "  //t.co/fivnKsE9Ib/NN)\n"
     ]
    }
   ],
   "source": [
    "ne_tree = ne_chunk(pos_tag(word_tokenize(gg_data[0][\"text\"])))\n",
    "print(ne_tree)"
   ]
  },
  {
   "cell_type": "code",
   "execution_count": 19,
   "metadata": {},
   "outputs": [],
   "source": [
    "def preprocess(sent):\n",
    "    sent = nltk.word_tokenize(sent)\n",
    "    sent = nltk.pos_tag(sent)\n",
    "    return sent"
   ]
  },
  {
   "cell_type": "code",
   "execution_count": 20,
   "metadata": {},
   "outputs": [
    {
     "data": {
      "text/plain": [
       "[('•', 'JJ'),\n",
       " ('Priyanka', 'NNP'),\n",
       " ('Chopra', 'NNP'),\n",
       " ('and', 'CC'),\n",
       " ('Nick', 'NNP'),\n",
       " ('Jonas', 'NNP'),\n",
       " ('at', 'IN'),\n",
       " ('the', 'DT'),\n",
       " ('77th', 'CD'),\n",
       " ('Annual', 'NNP'),\n",
       " ('Golden', 'NNP'),\n",
       " ('Globe', 'NNP'),\n",
       " ('Awards', 'NNP'),\n",
       " ('present', 'VBD'),\n",
       " ('the', 'DT'),\n",
       " ('award', 'NN'),\n",
       " ('for', 'IN'),\n",
       " ('Best', 'NNP'),\n",
       " ('TV', 'NN'),\n",
       " ('series', 'NN'),\n",
       " ('for', 'IN'),\n",
       " ('a', 'DT'),\n",
       " ('musical', 'JJ'),\n",
       " ('or', 'CC'),\n",
       " ('comedy', 'NN'),\n",
       " ('•', 'JJ'),\n",
       " ('#', '#'),\n",
       " ('goldenglobes2020', 'JJ'),\n",
       " ('@', 'NNP'),\n",
       " ('Golden', 'NNP'),\n",
       " ('Globes', 'NNP'),\n",
       " ('https', 'NN'),\n",
       " (':', ':'),\n",
       " ('//t.co/fivnKsE9Ib', 'NN')]"
      ]
     },
     "execution_count": 20,
     "metadata": {},
     "output_type": "execute_result"
    }
   ],
   "source": [
    "sent = preprocess(gg_data[0][\"text\"])\n",
    "sent"
   ]
  },
  {
   "cell_type": "code",
   "execution_count": 21,
   "metadata": {},
   "outputs": [],
   "source": [
    "pattern = 'NP: {<DT>?<JJ>*<NN>}'"
   ]
  },
  {
   "cell_type": "code",
   "execution_count": 22,
   "metadata": {},
   "outputs": [
    {
     "name": "stdout",
     "output_type": "stream",
     "text": [
      "(S\n",
      "  •/JJ\n",
      "  Priyanka/NNP\n",
      "  Chopra/NNP\n",
      "  and/CC\n",
      "  Nick/NNP\n",
      "  Jonas/NNP\n",
      "  at/IN\n",
      "  the/DT\n",
      "  77th/CD\n",
      "  Annual/NNP\n",
      "  Golden/NNP\n",
      "  Globe/NNP\n",
      "  Awards/NNP\n",
      "  present/VBD\n",
      "  (NP the/DT award/NN)\n",
      "  for/IN\n",
      "  Best/NNP\n",
      "  (NP TV/NN)\n",
      "  (NP series/NN)\n",
      "  for/IN\n",
      "  a/DT\n",
      "  musical/JJ\n",
      "  or/CC\n",
      "  (NP comedy/NN)\n",
      "  •/JJ\n",
      "  #/#\n",
      "  goldenglobes2020/JJ\n",
      "  @/NNP\n",
      "  Golden/NNP\n",
      "  Globes/NNP\n",
      "  (NP https/NN)\n",
      "  :/:\n",
      "  (NP //t.co/fivnKsE9Ib/NN))\n"
     ]
    }
   ],
   "source": [
    "cp = nltk.RegexpParser(pattern)\n",
    "cs = cp.parse(sent)\n",
    "print(cs)"
   ]
  },
  {
   "cell_type": "code",
   "execution_count": 23,
   "metadata": {},
   "outputs": [],
   "source": [
    "import spacy\n",
    "from spacy import displacy\n",
    "from collections import Counter\n",
    "import en_core_web_sm\n",
    "nlp = en_core_web_sm.load()"
   ]
  },
  {
   "cell_type": "code",
   "execution_count": 24,
   "metadata": {},
   "outputs": [
    {
     "ename": "NameError",
     "evalue": "name 'pprint' is not defined",
     "output_type": "error",
     "traceback": [
      "\u001b[1;31m---------------------------------------------------------------------------\u001b[0m",
      "\u001b[1;31mNameError\u001b[0m                                 Traceback (most recent call last)",
      "\u001b[1;32m<ipython-input-24-14c1f7594735>\u001b[0m in \u001b[0;36m<module>\u001b[1;34m\u001b[0m\n\u001b[0;32m      1\u001b[0m \u001b[0mdoc\u001b[0m \u001b[1;33m=\u001b[0m \u001b[0mnlp\u001b[0m\u001b[1;33m(\u001b[0m\u001b[0mgg_data\u001b[0m\u001b[1;33m[\u001b[0m\u001b[1;36m0\u001b[0m\u001b[1;33m]\u001b[0m\u001b[1;33m[\u001b[0m\u001b[1;34m\"text\"\u001b[0m\u001b[1;33m]\u001b[0m\u001b[1;33m)\u001b[0m\u001b[1;33m\u001b[0m\u001b[1;33m\u001b[0m\u001b[0m\n\u001b[1;32m----> 2\u001b[1;33m \u001b[0mpprint\u001b[0m\u001b[1;33m(\u001b[0m\u001b[1;33m[\u001b[0m\u001b[1;33m(\u001b[0m\u001b[0mX\u001b[0m\u001b[1;33m.\u001b[0m\u001b[0mtext\u001b[0m\u001b[1;33m,\u001b[0m \u001b[0mX\u001b[0m\u001b[1;33m.\u001b[0m\u001b[0mlabel_\u001b[0m\u001b[1;33m)\u001b[0m \u001b[1;32mfor\u001b[0m \u001b[0mX\u001b[0m \u001b[1;32min\u001b[0m \u001b[0mdoc\u001b[0m\u001b[1;33m.\u001b[0m\u001b[0ments\u001b[0m\u001b[1;33m]\u001b[0m\u001b[1;33m)\u001b[0m\u001b[1;33m\u001b[0m\u001b[1;33m\u001b[0m\u001b[0m\n\u001b[0m",
      "\u001b[1;31mNameError\u001b[0m: name 'pprint' is not defined"
     ]
    }
   ],
   "source": [
    "doc = nlp(gg_data[0][\"text\"])\n",
    "pprint([(X.text, X.label_) for X in doc.ents])"
   ]
  },
  {
   "cell_type": "code",
   "execution_count": null,
   "metadata": {},
   "outputs": [],
   "source": [
    "pprint([(X, X.ent_iob_, X.ent_type_) for X in doc])"
   ]
  },
  {
   "cell_type": "code",
   "execution_count": null,
   "metadata": {},
   "outputs": [],
   "source": [
    "from bs4 import BeautifulSoup\n",
    "import requests\n",
    "import re"
   ]
  },
  {
   "cell_type": "code",
   "execution_count": null,
   "metadata": {},
   "outputs": [],
   "source": [
    "def url_to_string(url):\n",
    "    res = requests.get(url)\n",
    "    html = res.text\n",
    "    soup = BeautifulSoup(html, 'html5lib')\n",
    "    for script in soup([\"script\", \"style\", 'aside']):\n",
    "        script.extract()\n",
    "    return \" \".join(re.split(r'[\\n\\t]+', soup.get_text()))"
   ]
  },
  {
   "cell_type": "code",
   "execution_count": null,
   "metadata": {},
   "outputs": [],
   "source": [
    "first_tweet = gg_data[0][\"text\"]\n",
    "article = nlp(first_tweet)"
   ]
  },
  {
   "cell_type": "code",
   "execution_count": null,
   "metadata": {},
   "outputs": [],
   "source": [
    "labels = [x.label_ for x in article.ents]\n",
    "Counter(labels)"
   ]
  },
  {
   "cell_type": "code",
   "execution_count": null,
   "metadata": {},
   "outputs": [],
   "source": [
    "[(x.orth_,x.pos_, x.lemma_) for x in [y \n",
    "                                      for y\n",
    "                                      in nlp(first_tweet) \n",
    "                                      if not y.is_stop and y.pos_ != 'PUNCT']]"
   ]
  },
  {
   "cell_type": "code",
   "execution_count": null,
   "metadata": {},
   "outputs": [],
   "source": [
    "dict([(str(x), x.label_) for x in nlp(first_tweet).ents])"
   ]
  },
  {
   "cell_type": "code",
   "execution_count": null,
   "metadata": {},
   "outputs": [],
   "source": []
  }
 ],
 "metadata": {
  "kernelspec": {
   "display_name": "Python 3",
   "language": "python",
   "name": "python3"
  },
  "language_info": {
   "codemirror_mode": {
    "name": "ipython",
    "version": 3
   },
   "file_extension": ".py",
   "mimetype": "text/x-python",
   "name": "python",
   "nbconvert_exporter": "python",
   "pygments_lexer": "ipython3",
   "version": "3.7.2"
  }
 },
 "nbformat": 4,
 "nbformat_minor": 2
}
